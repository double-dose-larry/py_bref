{
 "cells": [
  {
   "cell_type": "code",
   "execution_count": null,
   "metadata": {},
   "outputs": [],
   "source": [
    "from py_bref.players import Player\n",
    "from py_bref.bref_util import get_player_info"
   ]
  },
  {
   "cell_type": "code",
   "execution_count": null,
   "metadata": {},
   "outputs": [],
   "source": [
    "import pandas as pd\n",
    "pd.set_option(\"display.max_columns\", 50)"
   ]
  },
  {
   "cell_type": "markdown",
   "metadata": {},
   "source": [
    "## things to test\n",
    "\n",
    "for players:\n",
    "\n",
    "* player `__repr__` representation\n",
    "* for batters players\n",
    "    * test overview pages\n",
    "        * apperances\n",
    "        * batting_standard\n",
    "        * batting_value\n",
    "        * batting_postseason\n",
    "        * standard_fielding\n",
    "\n",
    "    * test splits pages\n",
    "        * total\n",
    "    * test game logs\n",
    "        * game_log\n",
    "* for pitchers\n",
    "    * test overview page\n",
    "        * apperances\n",
    "        * standard_pitching\n",
    "        * pitching_value\n",
    "        * pitching_postseason\n",
    "        * standard_fielding\n",
    "    * test splits pages\n",
    "        * total\n"
   ]
  },
  {
   "cell_type": "code",
   "execution_count": null,
   "metadata": {},
   "outputs": [],
   "source": [
    "aaron = Player(\"hank aaron\")"
   ]
  },
  {
   "cell_type": "code",
   "execution_count": null,
   "metadata": {},
   "outputs": [],
   "source": [
    "aaron.overview(\"standard_fielding\")"
   ]
  },
  {
   "cell_type": "code",
   "execution_count": null,
   "metadata": {},
   "outputs": [],
   "source": [
    "aaron.splits(\"lever\", year=1962, split_type='b')"
   ]
  },
  {
   "cell_type": "code",
   "execution_count": null,
   "metadata": {},
   "outputs": [],
   "source": [
    "aaron.game_logs(1962)"
   ]
  },
  {
   "cell_type": "code",
   "execution_count": null,
   "metadata": {},
   "outputs": [],
   "source": [
    "aaron.vs()"
   ]
  },
  {
   "cell_type": "code",
   "execution_count": null,
   "metadata": {},
   "outputs": [],
   "source": [
    "ruth = Player(\"Babe Ruth\")"
   ]
  },
  {
   "cell_type": "code",
   "execution_count": null,
   "metadata": {},
   "outputs": [],
   "source": [
    "ruth.vs()"
   ]
  },
  {
   "cell_type": "code",
   "execution_count": null,
   "metadata": {},
   "outputs": [],
   "source": [
    "maddux = Player(\"Maddux\")"
   ]
  },
  {
   "cell_type": "code",
   "execution_count": null,
   "metadata": {},
   "outputs": [],
   "source": [
    "maddux.vs('pitcher')"
   ]
  },
  {
   "cell_type": "code",
   "execution_count": null,
   "metadata": {},
   "outputs": [],
   "source": [
    "# test prep\n",
    "\n",
    "# some batters\n",
    "babe_ruth = Player(\"Babe Ruth\")\n",
    "junior = Player(\"Ken Griffy Jr.\")\n",
    "jiman = Player(\"jiman choi\")\n",
    "\n",
    "batters = [babe_ruth, junior, jiman]\n",
    "\n",
    "# some pitcher\n",
    "cy_young = Player(\"Cy Young\")\n",
    "maddux = Player(\"Greg Maddux\")\n",
    "cole = Player(\"Gerrit Cole\")\n",
    "\n",
    "pitchers = [cy_young, maddux, cole]"
   ]
  },
  {
   "cell_type": "markdown",
   "metadata": {},
   "source": [
    "# TEST players overviews"
   ]
  },
  {
   "cell_type": "code",
   "execution_count": null,
   "metadata": {},
   "outputs": [],
   "source": [
    "%%time\n",
    "for player in batters + pitchers:\n",
    "    print(player)\n",
    "    print(\"#\" * 30)\n",
    "    for table in [\"pitching_standard\", \"pitching_value\", \"batting_standard\",\n",
    "                             \"standard_fielding\", \"appearances\",\n",
    "                            \"batting_postseason\", \"pitching_postseason\"]:\n",
    "        print(player.name, table)\n",
    "        try:\n",
    "            display(player.overview(table).shape)\n",
    "        except Exception as e:\n",
    "            print(e)"
   ]
  },
  {
   "cell_type": "markdown",
   "metadata": {},
   "source": [
    "# Test player game logs"
   ]
  },
  {
   "cell_type": "code",
   "execution_count": null,
   "metadata": {},
   "outputs": [],
   "source": [
    "maddux.game_logs(2004,\"f\")\n"
   ]
  },
  {
   "cell_type": "code",
   "execution_count": null,
   "metadata": {},
   "outputs": [],
   "source": [
    "%%time\n",
    "for player in [babe_ruth]:\n",
    "    for log_type in [\"p\",\"b\",\"f\"]:\n",
    "        for year in player.years_active:\n",
    "            print(\"trying\", player.name, year, log_type)\n",
    "            try:\n",
    "                display(player.game_logs(log_type=log_type, year=year).shape)\n",
    "            except Exception as e:\n",
    "                print(e)"
   ]
  },
  {
   "cell_type": "markdown",
   "metadata": {},
   "source": [
    "# TEST player splits"
   ]
  },
  {
   "cell_type": "code",
   "execution_count": null,
   "metadata": {},
   "outputs": [],
   "source": [
    "%%time\n",
    "for player in [jiman]:\n",
    "    for table in ['total', 'plato', 'hmvis', 'half', 'month', f'outcb',\n",
    "                              'stsub', 'defp', 'leado', 'lineu', 'count', 'outs',\n",
    "                              'bases', 'clutc', 'lever', 'innng', 'times', 'power',\n",
    "                              'gbfb', 'hitlo', 'traj', \"site\", \"stad\", \"oppon\"]:\n",
    "        print(table)\n",
    "        display(player.splits(split_type=\"b\", table=table))"
   ]
  },
  {
   "cell_type": "code",
   "execution_count": null,
   "metadata": {},
   "outputs": [],
   "source": [
    "%%time\n",
    "for player in [jiman]:\n",
    "    for table in ['total', 'plato', 'hmvis', 'half', 'month', f'outcb',\n",
    "                              'stsub', 'defp', 'leado', 'lineu', 'count', 'outs',\n",
    "                              'bases', 'clutc', 'lever', 'innng', 'times', 'power',\n",
    "                              'gbfb', 'hitlo', 'traj', \"site\", \"stad\", \"oppon\"]:\n",
    "        print(table)\n",
    "        display(player.splits(split_type=\"b\", table=table))"
   ]
  },
  {
   "cell_type": "code",
   "execution_count": null,
   "metadata": {},
   "outputs": [],
   "source": [
    "%%time\n",
    "for player in [cole]:\n",
    "    for table in ['total','total_extra','plato','hmvis','hmvis_extra','half',\n",
    "                  'half_extra','month','month_extra','outco','outco_extra',\n",
    "                  'sprel','sprel_extra','rs','rs_extra','lineu','tkswg',\n",
    "                  'count','leado','defpo','outs','bases','clutc','lever',\n",
    "                  'innng','times','pitco','dr','dr_extra','hitlo','traj',\n",
    "                  'oppon','oppon_extra','stad','stad_extra','site','site_extra','catch','ump','ump_extra']:\n",
    "        print(table)\n",
    "        display(player.splits(split_type=\"p\", table_type=table))"
   ]
  },
  {
   "cell_type": "code",
   "execution_count": null,
   "metadata": {},
   "outputs": [],
   "source": [
    "cole.splits(\"plato\")"
   ]
  },
  {
   "cell_type": "code",
   "execution_count": null,
   "metadata": {},
   "outputs": [],
   "source": [
    "cole.splits(\"ump\").sort_values(\"G\",ascending=False).head(30)"
   ]
  },
  {
   "cell_type": "code",
   "execution_count": null,
   "metadata": {},
   "outputs": [],
   "source": [
    "glasnow = Player(\"tyler glasnow\")"
   ]
  },
  {
   "cell_type": "code",
   "execution_count": null,
   "metadata": {},
   "outputs": [],
   "source": [
    "glasnow_ump_df = glasnow.splits('ump')"
   ]
  },
  {
   "cell_type": "code",
   "execution_count": null,
   "metadata": {},
   "outputs": [],
   "source": [
    "glasnow_ump_df.sort_values(\"SO/W\", ascending=False)"
   ]
  },
  {
   "cell_type": "code",
   "execution_count": null,
   "metadata": {},
   "outputs": [],
   "source": [
    "df = glasnow.overview().sum()\n",
    "df.P / df.G"
   ]
  },
  {
   "cell_type": "code",
   "execution_count": null,
   "metadata": {},
   "outputs": [],
   "source": [
    "archer = Player(\"chris arch\")"
   ]
  },
  {
   "cell_type": "code",
   "execution_count": null,
   "metadata": {},
   "outputs": [],
   "source": [
    "archer.overview(\"pitching_standard\")"
   ]
  },
  {
   "cell_type": "code",
   "execution_count": null,
   "metadata": {},
   "outputs": [],
   "source": [
    "archer.game_logs(2019).columns"
   ]
  },
  {
   "cell_type": "code",
   "execution_count": null,
   "metadata": {},
   "outputs": [],
   "source": [
    "archer.game_logs(2019).set_index(\"Rk\").SO.rolling(3).mean().plot()"
   ]
  },
  {
   "cell_type": "code",
   "execution_count": null,
   "metadata": {},
   "outputs": [],
   "source": [
    "Player(\"Zack greinke\").game_logs(2019).set_index(\"Rk\").SO.rolling(3).mean().plot()"
   ]
  },
  {
   "cell_type": "code",
   "execution_count": null,
   "metadata": {},
   "outputs": [],
   "source": []
  }
 ],
 "metadata": {
  "kernelspec": {
   "display_name": "Python 3",
   "language": "python",
   "name": "python3"
  },
  "language_info": {
   "codemirror_mode": {
    "name": "ipython",
    "version": 3
   },
   "file_extension": ".py",
   "mimetype": "text/x-python",
   "name": "python",
   "nbconvert_exporter": "python",
   "pygments_lexer": "ipython3",
   "version": "3.7.4"
  }
 },
 "nbformat": 4,
 "nbformat_minor": 4
}
